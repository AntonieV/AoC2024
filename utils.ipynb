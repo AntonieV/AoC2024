{
 "cells": [
  {
   "cell_type": "markdown",
   "id": "4fead934",
   "metadata": {},
   "source": [
    "### bash:\n",
    "\n",
    "Create all empty input data files:\n",
    "```\n",
    "for i in $(seq 1 24);do touch day_$i-1.txt; done\n",
    "for i in $(seq 1 24);do touch day_$i-2.txt; done\n",
    "\n",
    "```\n"
   ]
  },
  {
   "cell_type": "code",
   "execution_count": null,
   "id": "f8b6a882",
   "metadata": {},
   "outputs": [],
   "source": [
    "TXT_2_DIGIT = {\n",
    "    \"one\": \"1\", \n",
    "    \"two\": \"2\", \n",
    "    \"three\": \"3\", \n",
    "    \"four\": \"4\", \n",
    "    \"five\": \"5\", \n",
    "    \"six\": \"6\", \n",
    "    \"seven\": \"7\", \n",
    "    \"eight\": \"8\", \n",
    "    \"nine\": \"9\"\n",
    "}\n",
    "\n",
    "\n",
    "def is_symbol(char):\n",
    "    return not bool(re.match(r\"[A-Za-z0-9.]+\", char))\n",
    "\n",
    "\n",
    "def contains_digits(region):\n",
    "    return bool(re.match(r\"\\D*\\d+\\D*\", ''.join(region)))\n",
    "\n",
    "\n"
   ]
  },
  {
   "cell_type": "code",
   "execution_count": null,
   "id": "fd1030e4",
   "metadata": {},
   "outputs": [],
   "source": [
    "### template for each day:\n",
    "\n",
    "\n",
    "\n",
    "### https://adventofcode.com/2024\n",
    "\n",
    "DAY = 1\n",
    "\n",
    "def read_file(file_name):\n",
    "    with open(file_name, 'r') as f_in:\n",
    "        return list(filter(None, [line.strip() for line in f_in.readlines()]))\n",
    "    \n",
    "def parse_input(_data):\n",
    "    pass\n",
    "    \n",
    "\n",
    "def get_solution_1(data):\n",
    "    pass\n",
    "        \n",
    "    \n",
    "def get_solution_2(data):\n",
    "    pass\n",
    "\n",
    "\n",
    "\n",
    "\n",
    "file_1 = f\"data/day_{DAY}-1.txt\"\n",
    "file_2 = f\"data/day_{DAY}-2.txt\"\n",
    "\n",
    "\n",
    "data = read_file(file_1)\n",
    "data = parse_input(data)\n",
    "solution_1 = get_solution_1(data)\n",
    "\n",
    "data = read_file(file_2)\n",
    "data = parse_input(data)\n",
    "solution_2 = get_solution_2(data)\n",
    "\n",
    "print(f\"Day {DAY} - Solution 1:\", solution_1)\n",
    "print(f\"Day {DAY} - Solution 2:\", solution_2)"
   ]
  }
 ],
 "metadata": {
  "kernelspec": {
   "display_name": "Python 3 (ipykernel)",
   "language": "python",
   "name": "python3"
  },
  "language_info": {
   "codemirror_mode": {
    "name": "ipython",
    "version": 3
   },
   "file_extension": ".py",
   "mimetype": "text/x-python",
   "name": "python",
   "nbconvert_exporter": "python",
   "pygments_lexer": "ipython3",
   "version": "3.10.12"
  }
 },
 "nbformat": 4,
 "nbformat_minor": 5
}
