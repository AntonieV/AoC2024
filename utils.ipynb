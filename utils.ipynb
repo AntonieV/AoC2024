{
 "cells": [
  {
   "cell_type": "markdown",
   "id": "4fead934",
   "metadata": {},
   "source": [
    "### bash:\n",
    "\n",
    "Create all empty input data files:\n",
    "```\n",
    "for i in $(seq 1 24);do touch day_$i.txt; done\n",
    "```\n"
   ]
  },
  {
   "cell_type": "code",
   "execution_count": null,
   "id": "f8b6a882",
   "metadata": {},
   "outputs": [],
   "source": [
    "TXT_2_DIGIT = {\n",
    "    \"one\": \"1\", \n",
    "    \"two\": \"2\", \n",
    "    \"three\": \"3\", \n",
    "    \"four\": \"4\", \n",
    "    \"five\": \"5\", \n",
    "    \"six\": \"6\", \n",
    "    \"seven\": \"7\", \n",
    "    \"eight\": \"8\", \n",
    "    \"nine\": \"9\"\n",
    "}\n",
    "\n",
    "\n",
    "def is_symbol(char):\n",
    "    return not bool(re.match(r\"[A-Za-z0-9.]+\", char))\n",
    "\n",
    "\n",
    "def contains_digits(region):\n",
    "    return bool(re.match(r\"\\D*\\d+\\D*\", ''.join(region)))\n",
    "\n",
    "\n"
   ]
  }
 ],
 "metadata": {
  "kernelspec": {
   "display_name": "Python 3 (ipykernel)",
   "language": "python",
   "name": "python3"
  },
  "language_info": {
   "codemirror_mode": {
    "name": "ipython",
    "version": 3
   },
   "file_extension": ".py",
   "mimetype": "text/x-python",
   "name": "python",
   "nbconvert_exporter": "python",
   "pygments_lexer": "ipython3",
   "version": "3.10.12"
  }
 },
 "nbformat": 4,
 "nbformat_minor": 5
}
